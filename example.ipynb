{
 "cells": [
  {
   "cell_type": "code",
   "execution_count": null,
   "metadata": {
    "id": "_gp9MkfQQpAO"
   },
   "outputs": [],
   "source": [
    "import pandas as pd\n",
    "import numpy as np\n",
    "import matplotlib.pyplot as plt\n",
    "import math\n",
    "import random"
   ]
  },
  {
   "cell_type": "code",
   "execution_count": null,
   "metadata": {},
   "outputs": [],
   "source": [
    "from birch import birch_cluster, k_means, CFLeaf, CFBranch, collect_leaf_centroids"
   ]
  },
  {
   "cell_type": "code",
   "execution_count": null,
   "metadata": {
    "colab": {
     "base_uri": "https://localhost:8080/",
     "height": 206
    },
    "id": "v_glJiO0u-JI",
    "outputId": "9f2d2255-6955-495a-a874-0463c5d7dbda"
   },
   "outputs": [],
   "source": [
    "dataset = pd.read_excel('sample_data.xlsx', header=None) # This is a sample dataset\n",
    "dataset.columns = ['x', 'y']\n",
    "dataset.head()"
   ]
  },
  {
   "cell_type": "code",
   "execution_count": null,
   "metadata": {
    "colab": {
     "base_uri": "https://localhost:8080/",
     "height": 300
    },
    "id": "TVdukiUtGTG7",
    "outputId": "fbfdb656-b8ca-4cb3-c184-7bf6a975f4e8"
   },
   "outputs": [],
   "source": [
    "dataset.describe()"
   ]
  },
  {
   "cell_type": "code",
   "execution_count": null,
   "metadata": {
    "colab": {
     "base_uri": "https://localhost:8080/",
     "height": 564
    },
    "id": "o85lwdEoczAQ",
    "outputId": "365937f2-aef3-4051-efc8-2d703bfcbb44"
   },
   "outputs": [],
   "source": [
    "plt.figure(figsize=(8, 6))\n",
    "plt.scatter(dataset['x'], dataset['y'], c='blue', label='Data Points')\n",
    "plt.xlabel('X-axis')\n",
    "plt.ylabel('Y-axis')\n",
    "plt.title('Scatter Plot of Data')\n",
    "plt.legend()\n",
    "plt.axis('equal')\n",
    "plt.show()"
   ]
  },
  {
   "cell_type": "code",
   "execution_count": null,
   "metadata": {
    "colab": {
     "base_uri": "https://localhost:8080/"
    },
    "id": "SWEiPOdm3qor",
    "outputId": "715f0c57-2731-4dc5-8bfb-5b0a67bb813c"
   },
   "outputs": [],
   "source": [
    "data = list(dataset.itertuples(index=False, name=None))"
   ]
  },
  {
   "cell_type": "code",
   "execution_count": null,
   "metadata": {
    "id": "1VKCkt0avU_X"
   },
   "outputs": [],
   "source": [
    "branching_factor = 2\n",
    "threshold = 1.5"
   ]
  },
  {
   "cell_type": "code",
   "execution_count": null,
   "metadata": {
    "id": "LlK8VPmDwkC1"
   },
   "outputs": [],
   "source": [
    "cf_tree = birch_cluster(data, branching_factor, threshold)"
   ]
  },
  {
   "cell_type": "code",
   "execution_count": null,
   "metadata": {
    "id": "fNr9tkzLHjxi"
   },
   "outputs": [],
   "source": [
    "# CF Tree Visualization: Hierarchical Display of Branches and Leaves with Attributes\n",
    "def print_cf_tree(node, level=0):\n",
    "    indent = \"  \" * level\n",
    "    if isinstance(node, CFLeaf):\n",
    "        print(f\"{indent}Leaf: points={node.points}, radius={node.radius}\")\n",
    "    elif isinstance(node, CFBranch):\n",
    "        print(f\"{indent}Branch:\")\n",
    "        for child in node.children:\n",
    "            print_cf_tree(child, level + 1)"
   ]
  },
  {
   "cell_type": "code",
   "execution_count": null,
   "metadata": {
    "colab": {
     "base_uri": "https://localhost:8080/"
    },
    "id": "xTAUu4u3wr-X",
    "outputId": "5e7a72d4-80ff-4c4b-e485-3acd2592bb48"
   },
   "outputs": [],
   "source": [
    "# Print the CF tree structure\n",
    "print_cf_tree(cf_tree)"
   ]
  },
  {
   "cell_type": "code",
   "execution_count": null,
   "metadata": {
    "id": "No55h9Bx75Uk"
   },
   "outputs": [],
   "source": [
    "# Tree Traversal and Cluster Information Printing: Displaying BIRCH Clustering Results\n",
    "def traverse_tree(node, cluster_number=1):\n",
    "    if isinstance(node, CFLeaf):\n",
    "        print(f\"Cluster {cluster_number}:\")\n",
    "        print(\"Points:\", node.points)\n",
    "        print(\"Cluster Features (N, LS, SS):\", node.cluster_features.N, node.cluster_features.LS, node.cluster_features.SS)\n",
    "        print(\"Radius:\", node.radius)\n",
    "        print()\n",
    "        return cluster_number + 1\n",
    "    else:\n",
    "        for child in node.children:\n",
    "            cluster_number = traverse_tree(child, cluster_number)\n",
    "        return cluster_number"
   ]
  },
  {
   "cell_type": "code",
   "execution_count": null,
   "metadata": {
    "colab": {
     "base_uri": "https://localhost:8080/"
    },
    "id": "b7dw_jMdzDMa",
    "outputId": "4225e413-5ed1-4b1c-8386-a71f24fa051c"
   },
   "outputs": [],
   "source": [
    "# Analyze the Birch clustering result\n",
    "traverse_tree(cf_tree)"
   ]
  },
  {
   "cell_type": "code",
   "execution_count": null,
   "metadata": {
    "colab": {
     "base_uri": "https://localhost:8080/",
     "height": 872
    },
    "id": "ngraQrduXsmD",
    "outputId": "30389ac5-c83b-42cf-dad1-0c89ca155e67"
   },
   "outputs": [],
   "source": [
    "def plot_clusters(root):\n",
    "    cluster_colors = {}\n",
    "    cluster_number = 0\n",
    "\n",
    "    def assign_colors(node):\n",
    "        nonlocal cluster_number\n",
    "        if isinstance(node, CFLeaf):\n",
    "            cluster_colors[cluster_number] = node.points\n",
    "            cluster_number += 1\n",
    "        else:\n",
    "            for child in node.children:\n",
    "                assign_colors(child)\n",
    "\n",
    "    # Assign colors to each cluster\n",
    "    assign_colors(root)\n",
    "    plt.figure(figsize=(12, 10))\n",
    "    # Plot each cluster with a unique color\n",
    "    for cluster, points in cluster_colors.items():\n",
    "        x_vals = [point[0] for point in points]\n",
    "        y_vals = [point[1] for point in points]\n",
    "        plt.scatter(x_vals, y_vals, label=f\"Cluster {cluster + 1}\")\n",
    "\n",
    "    plt.xlabel('X')\n",
    "    plt.ylabel('Y')\n",
    "    plt.title('BIRCH Clustering Results')\n",
    "    plt.legend()\n",
    "    plt.show()\n",
    "\n",
    "# Assuming cf_tree is the root of your BIRCH clustering result\n",
    "plot_clusters(cf_tree)"
   ]
  },
  {
   "cell_type": "code",
   "execution_count": null,
   "metadata": {
    "id": "2M6eV0jQf6w2"
   },
   "outputs": [],
   "source": [
    "# Collecting Centroids: Extract Leaf Node Centroids from the BIRCH CF Tree\n",
    "centroids = collect_leaf_centroids(cf_tree)\n",
    "array_centroids = np.array(centroids)\n",
    "x, y = zip(*data)"
   ]
  },
  {
   "cell_type": "code",
   "execution_count": null,
   "metadata": {
    "colab": {
     "base_uri": "https://localhost:8080/",
     "height": 581
    },
    "id": "J049TNkzPzVX",
    "outputId": "36e55852-3f5d-4a66-baa6-341c2bf53efb"
   },
   "outputs": [],
   "source": [
    "plt.figure(figsize=(8, 6))\n",
    "plt.scatter(x, y, c=\"blue\", label='Data Points')\n",
    "plt.scatter(array_centroids[:, 0], array_centroids[:, 1], c=\"red\", label='Centroids', marker='X')\n",
    "plt.xlabel(\"X\")\n",
    "plt.ylabel(\"Y\")\n",
    "plt.title(\"Data and Centroids\")\n",
    "plt.legend()"
   ]
  },
  {
   "cell_type": "code",
   "execution_count": null,
   "metadata": {
    "id": "MJMLTV66PzR_"
   },
   "outputs": [],
   "source": [
    "K = len(array_centroids)  # The number of clusters K is set to the number of centroids from BIRCH\n",
    "max_iterations = 100"
   ]
  },
  {
   "cell_type": "code",
   "execution_count": null,
   "metadata": {
    "colab": {
     "base_uri": "https://localhost:8080/",
     "height": 872
    },
    "id": "Y6yB1sZsPzeQ",
    "outputId": "e378c5ab-76a7-42a6-f69f-a4537a1e90a2"
   },
   "outputs": [],
   "source": [
    "# Final plot showing clusters\n",
    "clusters = k_means(data, K, array_centroids, max_iterations)\n",
    "plt.figure(figsize=(12, 10))\n",
    "for i in range(K):\n",
    "    points = np.array([data[j] for j in range(len(data)) if clusters[j] == i])\n",
    "    if points.any():\n",
    "        plt.scatter(points[:, 0], points[:, 1], s=50, c=\"#\"+str(random.randint(100000, 999999)), label=f'Cluster {i+1}')\n",
    "plt.scatter(array_centroids[:, 0], array_centroids[:, 1], s=100, c='red', label='Centroids', marker='X')\n",
    "plt.xlabel(\"X\")\n",
    "plt.ylabel(\"Y\")\n",
    "plt.title(\"Clusters and Centroids after K-Means\")\n",
    "plt.legend()\n",
    "plt.axis('equal')\n",
    "plt.show()"
   ]
  },
  {
   "cell_type": "code",
   "execution_count": null,
   "metadata": {},
   "outputs": [],
   "source": []
  }
 ],
 "metadata": {
  "colab": {
   "provenance": []
  },
  "kernelspec": {
   "display_name": "Python 3 (ipykernel)",
   "language": "python",
   "name": "python3"
  },
  "language_info": {
   "codemirror_mode": {
    "name": "ipython",
    "version": 3
   },
   "file_extension": ".py",
   "mimetype": "text/x-python",
   "name": "python",
   "nbconvert_exporter": "python",
   "pygments_lexer": "ipython3",
   "version": "3.10.4"
  }
 },
 "nbformat": 4,
 "nbformat_minor": 1
}
